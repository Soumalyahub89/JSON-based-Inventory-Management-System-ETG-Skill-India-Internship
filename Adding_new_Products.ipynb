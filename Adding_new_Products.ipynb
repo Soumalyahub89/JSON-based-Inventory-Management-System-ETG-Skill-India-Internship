{
 "cells": [
  {
   "cell_type": "markdown",
   "metadata": {
    "id": "j9rSMgKytN9V"
   },
   "source": [
    "## Read Data from JSON"
   ]
  },
  {
   "cell_type": "code",
   "execution_count": 1,
   "metadata": {
    "id": "wlQdKmzYpRok"
   },
   "outputs": [],
   "source": [
    "import json\n",
    "fd = open(\"record.json\",'r')\n",
    "r = fd.read()\n",
    "fd.close()\n",
    "\n",
    "record = json.loads(r)"
   ]
  },
  {
   "cell_type": "code",
   "execution_count": 4,
   "metadata": {
    "colab": {
     "base_uri": "https://localhost:8080/"
    },
    "id": "N8fCrfQHqlUN",
    "outputId": "04f7a640-bbad-429c-d7d1-686ca5ec14e2"
   },
   "outputs": [
    {
     "data": {
      "text/plain": [
       "{'1001': {'name': 'Choco Cake',\n",
       "  'pr': 50,\n",
       "  'qn': 105,\n",
       "  'mfg': '5-5-2021',\n",
       "  'doe': '3-3-2022'},\n",
       " '1002': {'name': 'Milk Cake',\n",
       "  'pr': 800,\n",
       "  'qn': 95,\n",
       "  'mfg': '10-1-2020',\n",
       "  'doe': '11-1-2021'},\n",
       " '1003': {'name': 'Drink',\n",
       "  'pr': 85,\n",
       "  'qn': 100,\n",
       "  'mfg': '10-1-2020',\n",
       "  'doe': '11-1-2021'},\n",
       " '1004': {'name': 'Candy',\n",
       "  'pr': 5,\n",
       "  'qn': 1000,\n",
       "  'mfg': '10-1-2020',\n",
       "  'doe': '11-1-2021'},\n",
       " '1005': {'name': 'Pen',\n",
       "  'pr': 20,\n",
       "  'qn': 100,\n",
       "  'mfg': '10-1-2020',\n",
       "  'doe': '11-1-2021'},\n",
       " '1006': {'name': 'Phone',\n",
       "  'pr': 50000,\n",
       "  'qn': 10,\n",
       "  'mfg': '10-1-2020',\n",
       "  'doe': '11-1-2021'},\n",
       " '1007': {'name': 'Mic',\n",
       "  'pr': 1500,\n",
       "  'qn': 0,\n",
       "  'mfg': '10-1-2020',\n",
       "  'doe': '11-1-2021'},\n",
       " '1008': {'name': 'Case',\n",
       "  'pr': 599,\n",
       "  'qn': 5,\n",
       "  'mfg': '10-1-2020',\n",
       "  'doe': '11-1-2021'},\n",
       " '1009': {'name': 'flower vase',\n",
       "  'pr': 300,\n",
       "  'qn': 10,\n",
       "  'mfg': '10-1-2020',\n",
       "  'doe': '11-1-2021'},\n",
       " '1010': {'name': 'Pencil',\n",
       "  'pr': 5,\n",
       "  'qn': 100,\n",
       "  'mfg': '10-1-2020',\n",
       "  'doe': '11-1-2021'},\n",
       " '1011': {'name': 'Eraser',\n",
       "  'pr': 5,\n",
       "  'qn': 100,\n",
       "  'mfg': '10-1-2020',\n",
       "  'doe': '11-1-2021'},\n",
       " '1012': {'name': 'Clip',\n",
       "  'pr': 5,\n",
       "  'qn': 1000,\n",
       "  'mfg': '10-1-2020',\n",
       "  'doe': '11-1-2021'},\n",
       " '1013': {'name': 'Colour',\n",
       "  'pr': 100,\n",
       "  'qn': 100,\n",
       "  'mfg': '10-1-2020',\n",
       "  'doe': '11-1-2021'},\n",
       " '1014': {'name': 'Pencil Box',\n",
       "  'pr': 50,\n",
       "  'qn': 10,\n",
       "  'mfg': '10-1-2020',\n",
       "  'doe': '11-1-2021'},\n",
       " '1015': {'name': 'Strings',\n",
       "  'pr': 1000,\n",
       "  'qn': 2,\n",
       "  'mgf': '1-1-2020',\n",
       "  'doe': '6-6-2050'},\n",
       " '1016': {'name': 'Copy',\n",
       "  'pr': 50,\n",
       "  'qn': 5,\n",
       "  'mfg': '10-1-2020',\n",
       "  'doe': '11-1-2021'},\n",
       " '1017': {'name': 'Salt',\n",
       "  'pr': 20,\n",
       "  'qn': 10,\n",
       "  'mfg': '10-1-2020',\n",
       "  'doe': '11-1-2021'},\n",
       " '1018': {'name': 'Almond',\n",
       "  'pr': 80,\n",
       "  'qn': 100,\n",
       "  'mfg': '10-1-2020',\n",
       "  'doe': '11-1-2021'},\n",
       " '1019': {'name': 'Flour',\n",
       "  'pr': 85,\n",
       "  'qn': 100,\n",
       "  'mfg': '10-1-2020',\n",
       "  'doe': '11-1-2021'},\n",
       " '1020': {'name': 'Lays',\n",
       "  'pr': 5,\n",
       "  'qn': 1000,\n",
       "  'mfg': '10-1-2020',\n",
       "  'doe': '11-1-2021'},\n",
       " '1021': {'name': 'Kurkure',\n",
       "  'pr': 5,\n",
       "  'qn': 100,\n",
       "  'mfg': '10-1-2020',\n",
       "  'doe': '11-1-2021'},\n",
       " '1022': {'name': 'Mad Angles',\n",
       "  'pr': 50,\n",
       "  'qn': 10,\n",
       "  'mfg': '10-1-2020',\n",
       "  'doe': '11-1-2021'},\n",
       " '1023': {'name': 'Chesse',\n",
       "  'pr': 15,\n",
       "  'qn': 0,\n",
       "  'mfg': '10-1-2020',\n",
       "  'doe': '11-1-2021'},\n",
       " '1024': {'name': 'Mayonese',\n",
       "  'pr': 180,\n",
       "  'qn': 5,\n",
       "  'mfg': '10-1-2020',\n",
       "  'doe': '11-1-2021'},\n",
       " '1025': {'name': 'Amul Cream',\n",
       "  'pr': 150,\n",
       "  'qn': 10,\n",
       "  'mfg': '10-1-2020',\n",
       "  'doe': '11-1-2021'},\n",
       " '1026': {'name': 'Maggi',\n",
       "  'pr': 12,\n",
       "  'qn': 100,\n",
       "  'mfg': '10-1-2020',\n",
       "  'doe': '11-1-2021'},\n",
       " '1027': {'name': 'Coke',\n",
       "  'pr': 40,\n",
       "  'qn': 100,\n",
       "  'mfg': '10-1-2020',\n",
       "  'doe': '11-1-2021'},\n",
       " '1028': {'name': 'Nachos',\n",
       "  'pr': 30,\n",
       "  'qn': 1000,\n",
       "  'mfg': '10-1-2020',\n",
       "  'doe': '11-1-2021'},\n",
       " '1029': {'name': 'Safed',\n",
       "  'pr': 40,\n",
       "  'qn': 100,\n",
       "  'mfg': '10-1-2020',\n",
       "  'doe': '11-1-2021'},\n",
       " '1030': {'name': 'Shampoo',\n",
       "  'pr': 100,\n",
       "  'qn': 1,\n",
       "  'mgf': '1-1-2021',\n",
       "  'doe': '1-1-2022'},\n",
       " '1031': {'name': 'spoon',\n",
       "  'pr': 20,\n",
       "  'qn': 100,\n",
       "  'mgf': '2-2-2020',\n",
       "  'doe': '1-1-2030'},\n",
       " '1032': {'name': 'Almonds',\n",
       "  'pr': 300,\n",
       "  'qn': 2,\n",
       "  'mgf': '2-2-2021',\n",
       "  'doe': '3-3-2022'}}"
      ]
     },
     "execution_count": 4,
     "metadata": {},
     "output_type": "execute_result"
    }
   ],
   "source": [
    "record\n"
   ]
  },
  {
   "cell_type": "markdown",
   "metadata": {
    "id": "fNniKChHtFsH"
   },
   "source": [
    "## Add New Item into Inventory"
   ]
  },
  {
   "cell_type": "code",
   "execution_count": 3,
   "metadata": {
    "colab": {
     "base_uri": "https://localhost:8080/"
    },
    "id": "f61BridoqxZN",
    "outputId": "4919a5d7-b839-41df-ec08-b4f39107e984"
   },
   "outputs": [
    {
     "name": "stdout",
     "output_type": "stream",
     "text": [
      "Enter product id:1001\n",
      "Enter name:Choco Cake\n",
      "Enter price:50\n",
      "Enter quantity:5\n",
      "Date of Manufacture:5-5-2021\n",
      "Date of Expiry:3-3-2022\n"
     ]
    }
   ],
   "source": [
    "prod_id = input(\"Enter product id:\")\n",
    "name= input(\"Enter name:\")\n",
    "pr = int(input(\"Enter price:\"))\n",
    "qn_1 = int(input(\"Enter quantity:\"))\n",
    "mfg = input(\"Date of Manufacture:\")\n",
    "doe = input(\"Date of Expiry:\")\n",
    "\n",
    "if prod_id in record.keys():\n",
    "    record[prod_id]={'name':name,'pr':pr,'qn':record[prod_id]['qn']+qn_1,'mfg':mfg,'doe':doe} \n",
    "else:\n",
    "    record[prod_id]={'name':name,'pr':pr,'qn':qn_1,'mfg':mfg,'doe':doe}\n",
    "    \n",
    "js = json.dumps(record)\n",
    "\n",
    "fd = open(\"record.json\",'w')\n",
    "fd.write(js)\n",
    "fd.close()\n"
   ]
  },
  {
   "cell_type": "code",
   "execution_count": null,
   "metadata": {},
   "outputs": [],
   "source": []
  }
 ],
 "metadata": {
  "colab": {
   "name": "Adding new Products",
   "provenance": []
  },
  "kernelspec": {
   "display_name": "Python 3",
   "language": "python",
   "name": "python3"
  },
  "language_info": {
   "codemirror_mode": {
    "name": "ipython",
    "version": 3
   },
   "file_extension": ".py",
   "mimetype": "text/x-python",
   "name": "python",
   "nbconvert_exporter": "python",
   "pygments_lexer": "ipython3",
   "version": "3.8.8"
  }
 },
 "nbformat": 4,
 "nbformat_minor": 1
}
